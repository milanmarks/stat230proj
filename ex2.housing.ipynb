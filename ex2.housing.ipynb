{
 "cells": [
  {
   "cell_type": "code",
   "execution_count": 39,
   "metadata": {},
   "outputs": [],
   "source": [
    "import numpy as np\n",
    "from numpy.linalg import inv\n",
    "import pandas as pd \n",
    "import matplotlib.pyplot as plt\n",
    "\n",
    "import time\n",
    "\n",
    "from sklearn.datasets import fetch_california_housing\n",
    "\n",
    "import statsmodels.api as sm\n",
    "\n",
    "from utils import linear_press, linear_loocv, ridge_press, ridge_loocv, all_same"
   ]
  },
  {
   "cell_type": "code",
   "execution_count": 15,
   "metadata": {},
   "outputs": [],
   "source": [
    "housing = fetch_california_housing()\n",
    "X = sm.add_constant(pd.DataFrame(housing.data, columns=housing.feature_names))\n",
    "y = housing.target"
   ]
  },
  {
   "cell_type": "code",
   "execution_count": 16,
   "metadata": {},
   "outputs": [],
   "source": [
    "model = sm.OLS(y, X).fit()"
   ]
  },
  {
   "cell_type": "code",
   "execution_count": 17,
   "metadata": {},
   "outputs": [
    {
     "name": "stdout",
     "output_type": "stream",
     "text": [
      "                            OLS Regression Results                            \n",
      "==============================================================================\n",
      "Dep. Variable:                      y   R-squared:                       0.606\n",
      "Model:                            OLS   Adj. R-squared:                  0.606\n",
      "Method:                 Least Squares   F-statistic:                     3970.\n",
      "Date:                Fri, 10 May 2024   Prob (F-statistic):               0.00\n",
      "Time:                        13:56:12   Log-Likelihood:                -22624.\n",
      "No. Observations:               20640   AIC:                         4.527e+04\n",
      "Df Residuals:                   20631   BIC:                         4.534e+04\n",
      "Df Model:                           8                                         \n",
      "Covariance Type:            nonrobust                                         \n",
      "==============================================================================\n",
      "                 coef    std err          t      P>|t|      [0.025      0.975]\n",
      "------------------------------------------------------------------------------\n",
      "const        -36.9419      0.659    -56.067      0.000     -38.233     -35.650\n",
      "MedInc         0.4367      0.004    104.054      0.000       0.428       0.445\n",
      "HouseAge       0.0094      0.000     21.143      0.000       0.009       0.010\n",
      "AveRooms      -0.1073      0.006    -18.235      0.000      -0.119      -0.096\n",
      "AveBedrms      0.6451      0.028     22.928      0.000       0.590       0.700\n",
      "Population -3.976e-06   4.75e-06     -0.837      0.402   -1.33e-05    5.33e-06\n",
      "AveOccup      -0.0038      0.000     -7.769      0.000      -0.005      -0.003\n",
      "Latitude      -0.4213      0.007    -58.541      0.000      -0.435      -0.407\n",
      "Longitude     -0.4345      0.008    -57.682      0.000      -0.449      -0.420\n",
      "==============================================================================\n",
      "Omnibus:                     4393.650   Durbin-Watson:                   0.885\n",
      "Prob(Omnibus):                  0.000   Jarque-Bera (JB):            14087.596\n",
      "Skew:                           1.082   Prob(JB):                         0.00\n",
      "Kurtosis:                       6.420   Cond. No.                     2.38e+05\n",
      "==============================================================================\n",
      "\n",
      "Notes:\n",
      "[1] Standard Errors assume that the covariance matrix of the errors is correctly specified.\n",
      "[2] The condition number is large, 2.38e+05. This might indicate that there are\n",
      "strong multicollinearity or other numerical problems.\n"
     ]
    }
   ],
   "source": [
    "print(model.summary())"
   ]
  },
  {
   "cell_type": "markdown",
   "metadata": {},
   "source": [
    "# LOOCV for linear regression"
   ]
  },
  {
   "cell_type": "code",
   "execution_count": 25,
   "metadata": {},
   "outputs": [
    {
     "name": "stdout",
     "output_type": "stream",
     "text": [
      "CPU times: user 6.8 s, sys: 15.2 s, total: 22 s\n",
      "Wall time: 11.3 s\n"
     ]
    }
   ],
   "source": [
    "%%time\n",
    "def linear_press(X, y):\n",
    "    X, y = np.array(X), np.array(y).reshape((-1, 1))\n",
    "    n, p = X.shape\n",
    "    I = np.identity(n)\n",
    "    H = X @ np.linalg.inv(X.T @ X) @ X.T\n",
    "    rss = y.T @ (I - H) @ np.diag(np.diag(I - H) ** (-2)) @ (I - H) @ y \n",
    "    return rss.item()\n",
    "\n",
    "press_linear = linear_press(X, y)"
   ]
  },
  {
   "cell_type": "code",
   "execution_count": 27,
   "metadata": {},
   "outputs": [
    {
     "name": "stdout",
     "output_type": "stream",
     "text": [
      "CPU times: user 3min 33s, sys: 8.84 s, total: 3min 42s\n",
      "Wall time: 32 s\n"
     ]
    }
   ],
   "source": [
    "%%time\n",
    "def linear_loocv(X, y):\n",
    "    X, y = np.array(X), np.array(y).reshape((-1, 1))\n",
    "    n, p = X.shape\n",
    "    eps = []\n",
    "    for i in range(n):\n",
    "        X_i, y_i = X[np.arange(X.shape[0]) != i], y[np.arange(y.shape[0]) != i]\n",
    "        beta_i = inv(X_i.T @ X_i) @ X_i.T @ y_i     \n",
    "        eps.append( y[i] - X[i] @ beta_i ) \n",
    "    return np.sum(np.array(eps) ** 2)\n",
    "\n",
    "press_linear_loocv = linear_loocv(X, y)"
   ]
  },
  {
   "cell_type": "code",
   "execution_count": 30,
   "metadata": {},
   "outputs": [
    {
     "data": {
      "text/plain": [
       "True"
      ]
     },
     "execution_count": 30,
     "metadata": {},
     "output_type": "execute_result"
    }
   ],
   "source": [
    "abs(press_linear -  press_linear_loocv) < 1e-5"
   ]
  },
  {
   "cell_type": "markdown",
   "metadata": {},
   "source": [
    "## Ridge regression"
   ]
  },
  {
   "cell_type": "code",
   "execution_count": 37,
   "metadata": {},
   "outputs": [],
   "source": [
    "def ridge_press(X, y, alpha):\n",
    "    X, y = np.array(X), np.array(y).reshape((-1, 1))\n",
    "    n, p = X.shape\n",
    "    I = np.identity(n)\n",
    "    H = X @ inv(X.T @ X + alpha * np.identity(p)) @ X.T \n",
    "    rss = y.T @ (I - H) @ np.diag(np.diag(I - H) ** (-2)) @ (I - H) @ y \n",
    "    return rss.item()\n",
    "\n",
    "\n",
    "def ridge_loocv(X, y, alpha):\n",
    "    X, y = np.array(X), np.array(y).reshape((-1, 1))\n",
    "    n, p = X.shape\n",
    "    eps = []\n",
    "    for i in range(n):\n",
    "        X_i, y_i = X[np.arange(X.shape[0]) != i], y[np.arange(y.shape[0]) != i]\n",
    "        beta_i = inv(X_i.T @ X_i + alpha * np.identity(p)) @ X_i.T @ y_i     \n",
    "        eps.append( y[i] - X[i] @ beta_i ) \n",
    "    return np.sum(np.array(eps) ** 2)"
   ]
  },
  {
   "cell_type": "code",
   "execution_count": 31,
   "metadata": {},
   "outputs": [],
   "source": [
    "alphas = [10**(i-3) for i in range(7)]"
   ]
  },
  {
   "cell_type": "code",
   "execution_count": 38,
   "metadata": {},
   "outputs": [
    {
     "data": {
      "text/plain": [
       "True"
      ]
     },
     "execution_count": 38,
     "metadata": {},
     "output_type": "execute_result"
    }
   ],
   "source": [
    "press_ridge, press_ridge_loocv = [], []\n",
    "\n",
    "for alpha in alphas:\n",
    "    press_ridge.append(ridge_press(X, y, alpha))\n",
    "    press_ridge_loocv.append(ridge_loocv(X, y, alpha))\n",
    "\n",
    "all_same(press_ridge, press_ridge_loocv)"
   ]
  },
  {
   "cell_type": "code",
   "execution_count": 49,
   "metadata": {},
   "outputs": [
    {
     "data": {
      "image/png": "[encoded data removed]",
      "text/plain": [
       "<Figure size 640x480 with 1 Axes>"
      ]
     },
     "metadata": {},
     "output_type": "display_data"
    }
   ],
   "source": [
    "plt.plot(alphas, press_ridge)\n",
    "plt.xscale(\"log\")\n",
    "plt.xlabel(\"lambda\")\n",
    "plt.ylabel(\"PRESS\")\n",
    "# plt.title(\"PRESS statistic at different lambda\")\n",
    "plt.show()"
   ]
  },
  {
   "cell_type": "code",
   "execution_count": null,
   "metadata": {},
   "outputs": [],
   "source": []
  }
 ],
 "metadata": {
  "kernelspec": {
   "display_name": "base",
   "language": "python",
   "name": "python3"
  },
  "language_info": {
   "codemirror_mode": {
    "name": "ipython",
    "version": 3
   },
   "file_extension": ".py",
   "mimetype": "text/x-python",
   "name": "python",
   "nbconvert_exporter": "python",
   "pygments_lexer": "ipython3",
   "version": "3.9.18"
  }
 },
 "nbformat": 4,
 "nbformat_minor": 2
}
